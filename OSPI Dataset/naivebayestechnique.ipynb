{
  "nbformat": 4,
  "nbformat_minor": 0,
  "metadata": {
    "colab": {
      "provenance": []
    },
    "kernelspec": {
      "name": "python3",
      "display_name": "Python 3"
    },
    "language_info": {
      "name": "python"
    },
    "accelerator": "GPU"
  },
  "cells": [
    {
      "cell_type": "code",
      "source": [
        "import pandas as pd\n",
        "from sklearn.model_selection import train_test_split\n",
        "from sklearn.naive_bayes import GaussianNB\n",
        "from sklearn.metrics import accuracy_score, classification_report\n",
        "import matplotlib.pyplot as plt\n",
        "import seaborn as sns\n",
        "\n",
        "data = pd.read_csv(\"/content/OSID.csv\")\n",
        "print(data.head())\n",
        "numerical_columns = ['Administrative', 'Informational', 'ProductRelated']\n",
        "\n",
        "for column in numerical_columns:\n",
        " plt.figure(figsize=(8, 6))\n",
        " sns.histplot(data[column], bins=20, kde=True)\n",
        " plt.title(f'Histogram of {column}')\n",
        " plt.xlabel(column)\n",
        " plt.ylabel('Frequency')\n",
        " plt.show()\n",
        "\n",
        "plt.figure(figsize=(8, 6))\n",
        "sns.countplot(data['Revenue'])\n",
        "plt.title('Histogram of Revenue')\n",
        "plt.xlabel('Revenue')\n",
        "plt.ylabel('Count')\n",
        "plt.show()\n",
        "\n",
        "data = data.dropna()\n",
        "# Encode categorical variables if any\n",
        "data = pd.get_dummies(data)\n",
        "X = data.drop('Revenue', axis=1) # Assuming 'Revenue' is the target variable\n",
        "y = data['Revenue']\n",
        "\n",
        "X_train, X_test, y_train, y_test = train_test_split(X, y, test_size=0.2, random_state=42)\n",
        "nb_classifier = GaussianNB()\n",
        "\n",
        "nb_classifier.fit(X_train, y_train)\n",
        "y_pred = nb_classifier.predict(X_test)\n",
        "accuracy = accuracy_score(y_test, y_pred)\n",
        "\n",
        "report_dict = classification_report(y_test, y_pred, output_dict=True)\n",
        "report_df = pd.DataFrame(report_dict)\n",
        "print(\"Accuracy:\", accuracy)\n",
        "print(\"Classification Report:\")\n",
        "print(report_df)"
      ],
      "metadata": {
        "id": "R2WHDWXjYHA0"
      },
      "execution_count": null,
      "outputs": []
    }
  ]
}